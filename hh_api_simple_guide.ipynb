{
 "cells": [
  {
   "cell_type": "code",
   "execution_count": null,
   "metadata": {},
   "outputs": [],
   "source": [
    "import requests\n",
    "import json \n",
    "import time \n",
    "import pandas as pd"
   ]
  },
  {
   "cell_type": "markdown",
   "metadata": {},
   "source": [
    "Документация по Api HH: https://github.com/hhru/api"
   ]
  },
  {
   "cell_type": "markdown",
   "metadata": {},
   "source": [
    "Для использования методов, требующих авторизацию пользователя или приложения, вам необходимо зарегистрировать приложение по адресу https://dev.hh.ru и настроить процесс авторизации.\n",
    "\n",
    "Зарегистрированное приложение может запрашивать у пользователей hh.ru разрешение доступа к их персональным данным, без получения и хранения их логина и пароля."
   ]
  },
  {
   "cell_type": "markdown",
   "metadata": {},
   "source": [
    "В нашем примере такие методы это поиск id резюме и рассылка резюме. Поиск вакансий не требует регистрации. "
   ]
  },
  {
   "cell_type": "markdown",
   "metadata": {},
   "source": [
    "Поиск вакансии"
   ]
  },
  {
   "cell_type": "code",
   "execution_count": null,
   "metadata": {},
   "outputs": [],
   "source": [
    "# Функция вытаскивает вакансии по параметрам (постронично)\n",
    "def get_vacancies_per_page(page: int, search_row: str):\n",
    "    params = {\n",
    "        'text':search_row, \n",
    "        'area':1, # регион поиска - Москва\n",
    "        'page':page, \n",
    "        'per_page': 100 # количество вакансий на странице\n",
    "        }\n",
    "\n",
    "    request_url = 'https://api.hh.ru/vacancies'\n",
    "    request = requests.get(request_url, params=params)\n",
    "    request_content = request.content.decode()\n",
    "    request.close()\n",
    "    return request_content"
   ]
  },
  {
   "cell_type": "code",
   "execution_count": null,
   "metadata": {},
   "outputs": [],
   "source": [
    "# Нахождение вакансий по поисковой строке \n",
    "def get_all_vacancies(search_row):\n",
    "    data = []\n",
    "    for page in range(0, 20):\n",
    "        page_data = json.loads(get_vacancies_per_page(page=page, search_row = search_row))\n",
    "        data.extend(page_data['items'])\n",
    "\n",
    "        if(page_data['pages'] - page) <=1:\n",
    "            break\n",
    "\n",
    "        time.sleep(0.25)\n",
    "    df_vacancies = pd.DataFrame(data)    \n",
    "    start = \"{'id': '\"\n",
    "    end = \"', 'name':\"\n",
    "    df_clean = df_vacancies\n",
    "    df_clean['experience'] = df_clean['experience'].astype(str)\n",
    "    df_clean['experience'] = df_clean['experience'].apply(lambda x: x[x.find(start)+len(start):x.rfind(end)])  \n",
    "    return df_clean"
   ]
  },
  {
   "cell_type": "code",
   "execution_count": null,
   "metadata": {},
   "outputs": [],
   "source": [
    "# Определяем поисковую строку \n",
    "# Больше примеров можно посмотреть на https://hh.ru/article/1175\n",
    "search_row = f'NAME:(\"data analyst\" OR \"аналитик данных\" OR \"data аналитик\")'"
   ]
  },
  {
   "cell_type": "code",
   "execution_count": null,
   "metadata": {},
   "outputs": [],
   "source": [
    "# Делаем запрос\n",
    "df_vacancies = get_all_vacancies(search_row)"
   ]
  },
  {
   "cell_type": "code",
   "execution_count": null,
   "metadata": {},
   "outputs": [],
   "source": [
    "# Мы можем работать с результатом поиска \n",
    "# Например, посмотреть сколько вакансий по требуемому опыту \n",
    "df_groupby_experience = df_vacancies.groupby('experience')['id'].count()\n",
    "df_groupby_experience"
   ]
  },
  {
   "cell_type": "code",
   "execution_count": null,
   "metadata": {},
   "outputs": [],
   "source": [
    "# Или сфильтровать вакансии с опытом и без \n",
    "df_with_salary = df_vacancies[df_vacancies['salary'].notna()]\n",
    "df_no_salary = df_vacancies[df_vacancies['salary'].isna()]"
   ]
  },
  {
   "cell_type": "markdown",
   "metadata": {},
   "source": [
    "Рассылка резюме"
   ]
  },
  {
   "cell_type": "markdown",
   "metadata": {},
   "source": [
    "Гайд по прегистрации от Учимся вместе: https://youtu.be/m1hzdcYxs4M?t=1183\n",
    "Также в этом видео в общем показывается как работать с hh."
   ]
  },
  {
   "cell_type": "code",
   "execution_count": null,
   "metadata": {},
   "outputs": [],
   "source": [
    "# Для методов требующих авторизацию\n",
    "authorization_code = \"\"\n",
    "Client_ID = \"\"\n",
    "Client_Secret = \"\""
   ]
  },
  {
   "cell_type": "code",
   "execution_count": null,
   "metadata": {},
   "outputs": [],
   "source": [
    "# Определяем параметры\n",
    "params = {\n",
    "    'grant_type':'authorization_code',\n",
    "    'client_id':Client_ID,\n",
    "    'client_secret':Client_Secret,\n",
    "    'code':authorization_code}"
   ]
  },
  {
   "cell_type": "code",
   "execution_count": null,
   "metadata": {},
   "outputs": [],
   "source": [
    "# Находим access Token \n",
    "result = json.loads(requests.post(f'https://hh.ru/oauth/token', params=params)\n",
    "                          .content.decode())\n",
    "access_token = result['access_token']"
   ]
  },
  {
   "cell_type": "code",
   "execution_count": null,
   "metadata": {},
   "outputs": [],
   "source": [
    "# Определяем загаловок (не забудьте поставить ваш мейл, если хотите)\n",
    "headers = {\n",
    "        'Authorization': f'Bearer {access_token}',\n",
    "        'HH-User-Agent': 'Send Resume (your_mail@mail.ru)'\n",
    "}"
   ]
  },
  {
   "cell_type": "markdown",
   "metadata": {},
   "source": [
    "Находим ID RESUME"
   ]
  },
  {
   "cell_type": "markdown",
   "metadata": {},
   "source": [
    "Вы можете найти ID Вашего резюме в ручную - зайдите на сраницу резюме, id resume будет иди после resume.\n",
    "https://hh.ru/resume/ID_RESUME"
   ]
  },
  {
   "cell_type": "code",
   "execution_count": null,
   "metadata": {},
   "outputs": [],
   "source": [
    "# Находим ID resume через запрос\n",
    "resume_list = json.loads(\n",
    "    requests.get('https://api.hh.ru/resumes/mine', headers = headers).content.decode()\n",
    ")['items']\n",
    "df_resume_list = pd.DataFrame(resume_list) \n",
    "df_resume_ids = df_resume_list[['title', 'id']]\n",
    "df_resume_ids"
   ]
  },
  {
   "cell_type": "code",
   "execution_count": null,
   "metadata": {},
   "outputs": [],
   "source": [
    "# Выбираете id resume из списка либо вручную \n",
    "resume_id = \"\""
   ]
  },
  {
   "cell_type": "code",
   "execution_count": null,
   "metadata": {},
   "outputs": [],
   "source": [
    "# Определяем vacancies id \n",
    "vacancies_id = df_vacancies['id'].to_list()"
   ]
  },
  {
   "cell_type": "code",
   "execution_count": null,
   "metadata": {},
   "outputs": [],
   "source": [
    "# Сопроводительное письмо \n",
    "message = \"\""
   ]
  },
  {
   "cell_type": "code",
   "execution_count": null,
   "metadata": {},
   "outputs": [],
   "source": [
    "# Отправка Одного Резюме \n",
    "def send_resume(vacancy_id, resume_id, message):\n",
    "    params = {\n",
    "            'vacancy_id':vacancy_id, \n",
    "            'resume_id':resume_id, \n",
    "            \"message\":message \n",
    "            }\n",
    "\n",
    "    click_url = 'https://api.hh.ru/negotiations'\n",
    "    requests.post(click_url, headers = headers, params=params)"
   ]
  },
  {
   "cell_type": "code",
   "execution_count": null,
   "metadata": {},
   "outputs": [],
   "source": [
    "# Простой пример функции для массовой отправки\n",
    "def send_all_resume(vacancies_id, resume_id, message):\n",
    "    for id in vacancies_id:\n",
    "        send_resume(\n",
    "        vacancy_id=id,\n",
    "        resume_id=resume_id,\n",
    "        message=message\n",
    "    )"
   ]
  },
  {
   "cell_type": "markdown",
   "metadata": {},
   "source": [
    "BONUS - открытие в chrome браузере вакансий для Windows. Желательно открывать частями. Открывается в последнем открытом браузере.  "
   ]
  },
  {
   "cell_type": "code",
   "execution_count": null,
   "metadata": {},
   "outputs": [],
   "source": [
    "import os\n",
    "current_file = os.path.abspath('')\n",
    "import webbrowser \n",
    "# getting path \n",
    "chrome_path = \"C://Program Files (x86)//Google//Chrome//Application//Chrome.exe %s\"\n",
    "  \n",
    "# First registers the new browser \n",
    "webbrowser.register('chrome', None,  \n",
    "                    webbrowser.BackgroundBrowser(chrome_path)) \n",
    "def open_vacancies(list):\n",
    "    for id in list:\n",
    "        url = \"https://hh.ru/vacancy/\"\n",
    "        webbrowser.get(chrome_path).open_new(url+id) "
   ]
  }
 ],
 "metadata": {
  "language_info": {
   "name": "python"
  }
 },
 "nbformat": 4,
 "nbformat_minor": 2
}
